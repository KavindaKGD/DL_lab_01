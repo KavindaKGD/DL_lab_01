{
  "nbformat": 4,
  "nbformat_minor": 0,
  "metadata": {
    "colab": {
      "provenance": [],
      "authorship_tag": "ABX9TyMOyiJAXiQulXLuNscMr3Io",
      "include_colab_link": true
    },
    "kernelspec": {
      "name": "python3",
      "display_name": "Python 3"
    },
    "language_info": {
      "name": "python"
    }
  },
  "cells": [
    {
      "cell_type": "markdown",
      "metadata": {
        "id": "view-in-github",
        "colab_type": "text"
      },
      "source": [
        "<a href=\"https://colab.research.google.com/github/KavindaKGD/DL_lab_01/blob/main/DL_Lab_01_Task_01.ipynb\" target=\"_parent\"><img src=\"https://colab.research.google.com/assets/colab-badge.svg\" alt=\"Open In Colab\"/></a>"
      ]
    },
    {
      "cell_type": "markdown",
      "source": [
        "Task 1"
      ],
      "metadata": {
        "id": "uVX1MyCiKUsP"
      }
    },
    {
      "cell_type": "code",
      "source": [
        "#Importing Libraries\n",
        "import numpy as np\n",
        "import matplotlib.pyplot as plt\n",
        "from mpl_toolkits.mplot3d import Axes3D\n",
        "import seaborn as sns\n",
        "import pandas as pd"
      ],
      "metadata": {
        "id": "rFvaAn0LLN2T"
      },
      "execution_count": 2,
      "outputs": []
    },
    {
      "cell_type": "markdown",
      "source": [
        "Create a random 4x4 array from an exponential distribution"
      ],
      "metadata": {
        "id": "2JwPM2ZtLQvX"
      }
    },
    {
      "cell_type": "code",
      "source": [
        "exp_array = np.random.exponential(scale=1.0, size=(4, 4))\n",
        "print(exp_array)"
      ],
      "metadata": {
        "colab": {
          "base_uri": "https://localhost:8080/"
        },
        "id": "98uTEyGzLRnI",
        "outputId": "4be0b3f8-5b45-48bd-c8ac-688cc19d03f7"
      },
      "execution_count": 3,
      "outputs": [
        {
          "output_type": "stream",
          "name": "stdout",
          "text": [
            "[[0.1583618  3.34287689 0.4070207  0.7654807 ]\n",
            " [0.57092727 2.21397186 0.88588416 2.90903396]\n",
            " [1.98917284 1.880975   0.58393062 0.37455431]\n",
            " [0.11666304 1.67500722 1.00010845 2.72608599]]\n"
          ]
        }
      ]
    },
    {
      "cell_type": "markdown",
      "source": [
        "Create a random 100000x1 array from the same exponential distribution and visualize the distribution histogram along with uniform and normal distributions"
      ],
      "metadata": {
        "id": "TETjTy4cNK4f"
      }
    },
    {
      "cell_type": "code",
      "source": [],
      "metadata": {
        "id": "A_cFZ4t7NPj2"
      },
      "execution_count": null,
      "outputs": []
    }
  ]
}