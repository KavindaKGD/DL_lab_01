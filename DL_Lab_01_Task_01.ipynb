{
  "nbformat": 4,
  "nbformat_minor": 0,
  "metadata": {
    "colab": {
      "provenance": [],
      "authorship_tag": "ABX9TyOj/Zm+HTUI5ow11ouzbaXY",
      "include_colab_link": true
    },
    "kernelspec": {
      "name": "python3",
      "display_name": "Python 3"
    },
    "language_info": {
      "name": "python"
    }
  },
  "cells": [
    {
      "cell_type": "markdown",
      "metadata": {
        "id": "view-in-github",
        "colab_type": "text"
      },
      "source": [
        "<a href=\"https://colab.research.google.com/github/KavindaKGD/DL_lab_01/blob/main/DL_Lab_01_Task_01.ipynb\" target=\"_parent\"><img src=\"https://colab.research.google.com/assets/colab-badge.svg\" alt=\"Open In Colab\"/></a>"
      ]
    },
    {
      "cell_type": "markdown",
      "source": [
        "Task 1"
      ],
      "metadata": {
        "id": "uVX1MyCiKUsP"
      }
    },
    {
      "cell_type": "code",
      "source": [
        "#Importing Libraries\n",
        "import numpy as np\n",
        "import matplotlib.pyplot as plt\n",
        "from mpl_toolkits.mplot3d import Axes3D\n",
        "import seaborn as sns\n",
        "import pandas as pd"
      ],
      "metadata": {
        "id": "rFvaAn0LLN2T"
      },
      "execution_count": 1,
      "outputs": []
    },
    {
      "cell_type": "markdown",
      "source": [
        "Create a random 4x4 array from an exponential distribution"
      ],
      "metadata": {
        "id": "2JwPM2ZtLQvX"
      }
    },
    {
      "cell_type": "code",
      "source": [
        "exp_array = np.random.exponential(scale=1.0, size=(4, 4))\n",
        "print(exp_array)"
      ],
      "metadata": {
        "id": "98uTEyGzLRnI"
      },
      "execution_count": null,
      "outputs": []
    }
  ]
}